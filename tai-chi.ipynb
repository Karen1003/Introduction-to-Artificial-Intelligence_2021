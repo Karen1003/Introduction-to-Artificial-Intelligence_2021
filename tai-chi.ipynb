{
  "nbformat": 4,
  "nbformat_minor": 0,
  "metadata": {
    "colab": {
      "name": "太極.ipynb",
      "provenance": []
    },
    "kernelspec": {
      "name": "python3",
      "display_name": "Python 3"
    },
    "language_info": {
      "name": "python"
    }
  },
  "cells": [
    {
      "cell_type": "code",
      "execution_count": null,
      "metadata": {
        "id": "-iHR_-FE-zHv"
      },
      "outputs": [],
      "source": [
        "import numpy as np\n",
        "import matplotlib.pyplot as plt\n",
        "from keras.utils.vis_utils import plot_model\n",
        "import random\n",
        "import math"
      ]
    },
    {
      "cell_type": "markdown",
      "source": [
        "##**產生圓形** "
      ],
      "metadata": {
        "id": "zXpi5Fbkm-2q"
      }
    },
    {
      "cell_type": "code",
      "source": [
        "data=[]\n",
        "data_train=[]\n",
        "data_test=[]\n",
        "\n",
        "\n",
        "#產生100000個點\n",
        "n=100000\n",
        "big_R=10 #大圓半徑\n",
        "pi=math.pi\n",
        "\n",
        "ratio=0.1\n",
        "#訓練資料及測試資料數量\n",
        "train=int(n*(1-ratio))\n",
        "test=int(n*ratio)\n",
        "print(train,test)\n",
        "\n",
        "#產生圓形中的點\n",
        "for i in range(n):\n",
        "  point=[]\n",
        "  r=random.uniform(0,big_R)\n",
        "  theta=random.uniform(0,2*pi)\n",
        "  x=r*math.cos(theta)\n",
        "  point.append(x)\n",
        "  y=r*math.sin(theta)\n",
        "  point.append(y)\n",
        "  data.append(point)\n",
        "\n",
        "#分割成訓練及測試資料\n",
        "data_train=data[0:train]\n",
        "data_test=data[train:n]\n",
        "#確認data_train的數列\n",
        "print(data_train[0:5])"
      ],
      "metadata": {
        "colab": {
          "base_uri": "https://localhost:8080/"
        },
        "id": "3c0z_jaH-75g",
        "outputId": "fe1279b2-4c4e-4dcd-bc22-28271c3eb245"
      },
      "execution_count": null,
      "outputs": [
        {
          "output_type": "stream",
          "name": "stdout",
          "text": [
            "90000 10000\n",
            "[[2.510391802134234, 5.605879584868459], [4.3348689888442244, -0.6922092485279702], [1.3287196944967905, -0.5192851028668775], [-0.6665136011237353, -8.814126472387555], [1.970752673005633, 5.023460100766396]]\n"
          ]
        }
      ]
    },
    {
      "cell_type": "markdown",
      "source": [
        "![image.png](data:image/png;base64,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)"
      ],
      "metadata": {
        "id": "Puzz3HHQitrA"
      }
    },
    {
      "cell_type": "markdown",
      "source": [
        "### **標記白點黑點並畫出圖(訓練資料 train data)** "
      ],
      "metadata": {
        "id": "FQgiwMHznm5R"
      }
    },
    {
      "cell_type": "code",
      "source": [
        "medium_R=5 #中圓半徑\n",
        "small_R=1.5 #小圓半徑\n",
        "small_white_x=0 #上面小白圓點的x座標\n",
        "small_white_y=5 #上面小白圓點的y座標\n",
        "small_black_x=0 #下面小黑圓點的x座標\n",
        "small_black_y=-5 #下面小白圓點的y座標\n",
        "\n",
        "for i in range(train):\n",
        "    #取得x、y座標值\n",
        "    x=data_train[i][0]\n",
        "    y=data_train[i][1]\n",
        "\n",
        "    #以計算某點到小圓點的距離來決定該點的顏色為黑或白(如上圖)\n",
        "    #第一 二象限\n",
        "    if y>=0:\n",
        "      length=math.sqrt((x-small_white_x)**2+(y-small_white_y)**2)\n",
        "      if x>=0: #第一象限\n",
        "        if length<=small_R: #距離<小圓半徑\n",
        "          data_train[i].append(\"w\") #白色\n",
        "        else:\n",
        "          data_train[i].append(\"b\") #其餘黑色\n",
        "      elif x<0: #第二象限\n",
        "        if length<=small_R: #距離<小圓半徑\n",
        "          data_train[i].append(\"w\") #白色\n",
        "        elif length<medium_R: #距離<中圓半徑\n",
        "          data_train[i].append(\"b\") #黑色\n",
        "        else:\n",
        "          data_train[i].append(\"w\") #其餘白色\n",
        "    #第三 四象限\n",
        "    elif y<0:\n",
        "      length=math.sqrt((x-small_black_x)**2+(y-small_black_y)**2)\n",
        "      if x<=0: #第三象限(規則同上)\n",
        "        if length<=small_R:\n",
        "          data_train[i].append(\"b\")\n",
        "        else:\n",
        "          data_train[i].append(\"w\")\n",
        "      elif x>0: #第四象限(規則同上)\n",
        "        if length<=small_R:\n",
        "          data_train[i].append(\"b\")\n",
        "        elif length<medium_R:\n",
        "          data_train[i].append(\"w\")\n",
        "        else:            \n",
        "          data_train[i].append(\"b\")\n",
        "print(data_train[0:5])"
      ],
      "metadata": {
        "colab": {
          "base_uri": "https://localhost:8080/"
        },
        "id": "tr8kkNk5_FHz",
        "outputId": "8c021441-a842-496f-c438-766c62ec67d5"
      },
      "execution_count": null,
      "outputs": [
        {
          "output_type": "stream",
          "name": "stdout",
          "text": [
            "[[2.510391802134234, 5.605879584868459, 'b'], [4.3348689888442244, -0.6922092485279702, 'b'], [1.3287196944967905, -0.5192851028668775, 'w'], [-0.6665136011237353, -8.814126472387555, 'w'], [1.970752673005633, 5.023460100766396, 'b']]\n"
          ]
        }
      ]
    },
    {
      "cell_type": "code",
      "source": [
        "#放白色點\n",
        "xpoint_white=[]\n",
        "ypoint_white=[]\n",
        "#放黑色點\n",
        "xpoint_black=[]\n",
        "ypoint_black=[]\n",
        "\n",
        "for i in range(train):\n",
        "  if data_train[i][2]=='w': \n",
        "    xpoint_white.append(data_train[i][0])\n",
        "    ypoint_white.append(data_train[i][1])\n",
        "  elif data_train[i][2]=='b':\n",
        "    xpoint_black.append(data_train[i][0])\n",
        "    ypoint_black.append(data_train[i][1])\n",
        "\n",
        "fig = plt.figure()\n",
        "ax = fig.add_subplot(111)\n",
        "\n",
        "#根據白點黑點產生array\n",
        "xdata_white=np.array(xpoint_white)\n",
        "ydata_white=np.array(ypoint_white)\n",
        "xdata_black=np.array(xpoint_black)\n",
        "ydata_black=np.array(ypoint_black)\n",
        "\n",
        "plt.scatter(xdata_white, ydata_white, s=10, c=\"white\" )\n",
        "plt.scatter(xdata_black, ydata_black, s=10, c=\"black\" )\n",
        "ax.set_aspect('equal', adjustable='box') #等軸的正方形圖\n",
        "ax.set_facecolor(\"gray\")\n",
        "plt.show()"
      ],
      "metadata": {
        "colab": {
          "base_uri": "https://localhost:8080/",
          "height": 265
        },
        "id": "E6S8iPnttTGE",
        "outputId": "dcabb531-9a83-4895-ba39-38e07d388c79"
      },
      "execution_count": null,
      "outputs": [
        {
          "output_type": "display_data",
          "data": {
            "image/png": "[encoded data removed]",
            "text/plain": [
              "<Figure size 432x288 with 1 Axes>"
            ]
          },
          "metadata": {
            "needs_background": "light"
          }
        }
      ]
    },
    {
      "cell_type": "markdown",
      "source": [
        "### **標記白點黑點並畫出圖(測試資料 test data)** "
      ],
      "metadata": {
        "id": "gpIViVSwn7-F"
      }
    },
    {
      "cell_type": "code",
      "source": [
        "#規則同上訓練資料\n",
        "for i in range(test):\n",
        "    x=data_test[i][0]\n",
        "    y=data_test[i][1]\n",
        "    #第一 二象限\n",
        "    if y>=0:\n",
        "      length=math.sqrt((x-small_white_x)**2+(y-small_white_y)**2)\n",
        "      if x>=0:\n",
        "        if length<=small_R:\n",
        "          data_test[i].append(\"w\")\n",
        "        else:\n",
        "          data_test[i].append(\"b\")\n",
        "      elif x<0:\n",
        "        if length<=small_R:\n",
        "          data_test[i].append(\"w\")\n",
        "        elif length<medium_R:\n",
        "          data_test[i].append(\"b\")\n",
        "        else:\n",
        "          data_test[i].append(\"w\")\n",
        "    #第三 四象限\n",
        "    elif y<0:\n",
        "      length=math.sqrt((x-small_black_x)**2+(y-small_black_y)**2)\n",
        "      if x<=0:\n",
        "        if length<=small_R:\n",
        "          data_test[i].append(\"b\")\n",
        "        else:\n",
        "          data_test[i].append(\"w\")\n",
        "      elif x>0:\n",
        "        if length<=small_R:\n",
        "          data_test[i].append(\"b\")\n",
        "        elif length<medium_R:\n",
        "          data_test[i].append(\"w\")\n",
        "        else:            \n",
        "          data_test[i].append(\"b\")\n",
        "print(data_test[0:5])"
      ],
      "metadata": {
        "colab": {
          "base_uri": "https://localhost:8080/"
        },
        "id": "Kd-p0sVF47_q",
        "outputId": "c545f29c-5954-45d6-8194-fe0f4a68395c"
      },
      "execution_count": null,
      "outputs": [
        {
          "output_type": "stream",
          "name": "stdout",
          "text": [
            "[[-3.1685912948612094, 0.5154808130692391, 'w'], [-2.411312110328834, -1.1302411830401267, 'w'], [-2.0453040120525094, -2.444575037703437, 'w'], [-0.4042662407405391, -0.49886965630522195, 'w'], [0.2723472939531469, 0.8917253580277689, 'b']]\n"
          ]
        }
      ]
    },
    {
      "cell_type": "code",
      "source": [
        "xpoint_white=[]\n",
        "ypoint_white=[]\n",
        "xpoint_black=[]\n",
        "ypoint_black=[]\n",
        "for i in range(test):\n",
        "  if data_test[i][2]=='w':\n",
        "    xpoint_white.append(data_test[i][0])\n",
        "    ypoint_white.append(data_test[i][1])\n",
        "  elif data_test[i][2]=='b':\n",
        "    xpoint_black.append(data_test[i][0])\n",
        "    ypoint_black.append(data_test[i][1])\n",
        "\n",
        "fig = plt.figure()\n",
        "ax = fig.add_subplot(111)\n",
        "\n",
        "xdata_white=np.array(xpoint_white)\n",
        "ydata_white=np.array(ypoint_white)\n",
        "xdata_black=np.array(xpoint_black)\n",
        "ydata_black=np.array(ypoint_black)\n",
        "\n",
        "plt.scatter(xdata_white, ydata_white, s=10, c=\"white\" )\n",
        "plt.scatter(xdata_black, ydata_black, s=10, c=\"black\" )\n",
        "ax.set_aspect('equal', adjustable='box')\n",
        "ax.set_facecolor(\"gray\")\n",
        "plt.show()"
      ],
      "metadata": {
        "colab": {
          "base_uri": "https://localhost:8080/",
          "height": 265
        },
        "id": "RO1dwQSV5VmC",
        "outputId": "6e52157d-8edd-4b83-d59d-75cf7108bd90"
      },
      "execution_count": null,
      "outputs": [
        {
          "output_type": "display_data",
          "data": {
            "image/png": "[encoded data removed]",
            "text/plain": [
              "<Figure size 432x288 with 1 Axes>"
            ]
          },
          "metadata": {
            "needs_background": "light"
          }
        }
      ]
    },
    {
      "cell_type": "markdown",
      "source": [
        "### **神經網路**"
      ],
      "metadata": {
        "id": "AzulPzOTq5Dj"
      }
    },
    {
      "cell_type": "code",
      "source": [
        "newdata=[]\n",
        "newdata.extend(data_train[0:])\n",
        "newdata.extend(data_test[0:])\n",
        "print(newdata[0])\n",
        "\n",
        "\n",
        "for i in range(n):\n",
        "  if newdata[i][2]==\"w\":\n",
        "    newdata[i][2]=0 #若為白點 標記為0\n",
        "  elif newdata[i][2]==\"b\":\n",
        "    newdata[i][2]=1 #若為黑點 標記為1\n",
        "\n",
        "#newdata=np.array(newdata,dtype='float32')\n",
        "newdata=np.array(newdata)\n",
        "print(newdata[0:5])\n",
        "#切割出X和Y\n",
        "X = newdata[0:,0:2] #代表數列中的前兩項意即座標\n",
        "Y = newdata[0:,2] #代表該座標對應的顏色\n",
        "\n",
        "from keras.models import Sequential\n",
        "from keras.layers import Dense\n",
        "from keras import optimizers\n",
        "import tensorflow as tf\n",
        "from tensorflow.keras.optimizers import Adam, SGD, RMSprop\n",
        "model=Sequential()\n",
        "# 輸入層\n",
        "model.add(Dense(2, input_dim=2, activation='tanh'))\n",
        "# 隱藏層\n",
        "model.add(Dense(2,  activation='tanh'))\n",
        "# 輸出層\n",
        "model.add(Dense(1, activation='tanh'))\n",
        "model.summary()\n",
        "\n",
        "\n",
        "model.compile(loss='mse',\n",
        "              optimizer=RMSprop(),\n",
        "              metrics=['acc'])\n",
        "train_history = model.fit(X, Y,\n",
        "                    validation_split=0.1,\n",
        "                    batch_size=512,\n",
        "                    epochs=100)\n",
        "# 模型評估\n",
        "score = model.evaluate(X, Y, verbose=0)\n",
        "print('Test loss:', score[0])\n",
        "print('Test accuracy:', score[1])  "
      ],
      "metadata": {
        "colab": {
          "base_uri": "https://localhost:8080/"
        },
        "outputId": "5b1e604d-2d44-46ca-a265-f65bcdee5549",
        "id": "1thif13q75GJ"
      },
      "execution_count": null,
      "outputs": [
        {
          "output_type": "stream",
          "name": "stdout",
          "text": [
            "[2.510391802134234, 5.605879584868459, 'b']\n",
            "[[ 2.5103918   5.60587958  1.        ]\n",
            " [ 4.33486899 -0.69220925  1.        ]\n",
            " [ 1.32871969 -0.5192851   0.        ]\n",
            " [-0.6665136  -8.81412647  0.        ]\n",
            " [ 1.97075267  5.0234601   1.        ]]\n",
            "Model: \"sequential_18\"\n",
            "_________________________________________________________________\n",
            " Layer (type)                Output Shape              Param #   \n",
            "=================================================================\n",
            " dense_54 (Dense)            (None, 2)                 6         \n",
            "                                                                 \n",
            " dense_55 (Dense)            (None, 2)                 6         \n",
            "                                                                 \n",
            " dense_56 (Dense)            (None, 1)                 3         \n",
            "                                                                 \n",
            "=================================================================\n",
            "Total params: 15\n",
            "Trainable params: 15\n",
            "Non-trainable params: 0\n",
            "_________________________________________________________________\n",
            "Epoch 1/100\n",
            "176/176 [==============================] - 1s 3ms/step - loss: 0.2125 - acc: 0.7736 - val_loss: 0.1322 - val_acc: 0.8392\n",
            "Epoch 2/100\n",
            "176/176 [==============================] - 0s 2ms/step - loss: 0.1257 - acc: 0.8404 - val_loss: 0.1163 - val_acc: 0.8526\n",
            "Epoch 3/100\n",
            "176/176 [==============================] - 0s 2ms/step - loss: 0.1154 - acc: 0.8491 - val_loss: 0.1107 - val_acc: 0.8579\n",
            "Epoch 4/100\n",
            "176/176 [==============================] - 0s 2ms/step - loss: 0.1112 - acc: 0.8534 - val_loss: 0.1076 - val_acc: 0.8591\n",
            "Epoch 5/100\n",
            "176/176 [==============================] - 0s 2ms/step - loss: 0.1083 - acc: 0.8580 - val_loss: 0.1045 - val_acc: 0.8639\n",
            "Epoch 6/100\n",
            "176/176 [==============================] - 0s 2ms/step - loss: 0.1048 - acc: 0.8697 - val_loss: 0.1001 - val_acc: 0.8805\n",
            "Epoch 7/100\n",
            "176/176 [==============================] - 0s 2ms/step - loss: 0.0998 - acc: 0.8877 - val_loss: 0.0943 - val_acc: 0.9043\n",
            "Epoch 8/100\n",
            "176/176 [==============================] - 0s 2ms/step - loss: 0.0943 - acc: 0.9095 - val_loss: 0.0886 - val_acc: 0.9194\n",
            "Epoch 9/100\n",
            "176/176 [==============================] - 0s 2ms/step - loss: 0.0898 - acc: 0.9184 - val_loss: 0.0843 - val_acc: 0.9230\n",
            "Epoch 10/100\n",
            "176/176 [==============================] - 0s 2ms/step - loss: 0.0864 - acc: 0.9199 - val_loss: 0.0811 - val_acc: 0.9248\n",
            "Epoch 11/100\n",
            "176/176 [==============================] - 0s 2ms/step - loss: 0.0837 - acc: 0.9210 - val_loss: 0.0786 - val_acc: 0.9259\n",
            "Epoch 12/100\n",
            "176/176 [==============================] - 0s 2ms/step - loss: 0.0817 - acc: 0.9218 - val_loss: 0.0767 - val_acc: 0.9253\n",
            "Epoch 13/100\n",
            "176/176 [==============================] - 0s 2ms/step - loss: 0.0800 - acc: 0.9221 - val_loss: 0.0751 - val_acc: 0.9257\n",
            "Epoch 14/100\n",
            "176/176 [==============================] - 0s 2ms/step - loss: 0.0786 - acc: 0.9221 - val_loss: 0.0740 - val_acc: 0.9264\n",
            "Epoch 15/100\n",
            "176/176 [==============================] - 0s 2ms/step - loss: 0.0775 - acc: 0.9222 - val_loss: 0.0731 - val_acc: 0.9262\n",
            "Epoch 16/100\n",
            "176/176 [==============================] - 0s 2ms/step - loss: 0.0766 - acc: 0.9223 - val_loss: 0.0721 - val_acc: 0.9253\n",
            "Epoch 17/100\n",
            "176/176 [==============================] - 0s 2ms/step - loss: 0.0759 - acc: 0.9222 - val_loss: 0.0714 - val_acc: 0.9254\n",
            "Epoch 18/100\n",
            "176/176 [==============================] - 0s 2ms/step - loss: 0.0752 - acc: 0.9223 - val_loss: 0.0710 - val_acc: 0.9259\n",
            "Epoch 19/100\n",
            "176/176 [==============================] - 0s 2ms/step - loss: 0.0747 - acc: 0.9221 - val_loss: 0.0705 - val_acc: 0.9257\n",
            "Epoch 20/100\n",
            "176/176 [==============================] - 0s 2ms/step - loss: 0.0743 - acc: 0.9219 - val_loss: 0.0699 - val_acc: 0.9257\n",
            "Epoch 21/100\n",
            "176/176 [==============================] - 0s 2ms/step - loss: 0.0739 - acc: 0.9224 - val_loss: 0.0697 - val_acc: 0.9257\n",
            "Epoch 22/100\n",
            "176/176 [==============================] - 0s 2ms/step - loss: 0.0736 - acc: 0.9219 - val_loss: 0.0694 - val_acc: 0.9252\n",
            "Epoch 23/100\n",
            "176/176 [==============================] - 0s 2ms/step - loss: 0.0733 - acc: 0.9217 - val_loss: 0.0692 - val_acc: 0.9252\n",
            "Epoch 24/100\n",
            "176/176 [==============================] - 0s 2ms/step - loss: 0.0730 - acc: 0.9219 - val_loss: 0.0689 - val_acc: 0.9251\n",
            "Epoch 25/100\n",
            "176/176 [==============================] - 0s 2ms/step - loss: 0.0728 - acc: 0.9218 - val_loss: 0.0686 - val_acc: 0.9251\n",
            "Epoch 26/100\n",
            "176/176 [==============================] - 0s 2ms/step - loss: 0.0726 - acc: 0.9218 - val_loss: 0.0685 - val_acc: 0.9250\n",
            "Epoch 27/100\n",
            "176/176 [==============================] - 0s 2ms/step - loss: 0.0724 - acc: 0.9215 - val_loss: 0.0684 - val_acc: 0.9250\n",
            "Epoch 28/100\n",
            "176/176 [==============================] - 0s 2ms/step - loss: 0.0723 - acc: 0.9219 - val_loss: 0.0683 - val_acc: 0.9250\n",
            "Epoch 29/100\n",
            "176/176 [==============================] - 0s 2ms/step - loss: 0.0721 - acc: 0.9214 - val_loss: 0.0681 - val_acc: 0.9247\n",
            "Epoch 30/100\n",
            "176/176 [==============================] - 0s 2ms/step - loss: 0.0720 - acc: 0.9212 - val_loss: 0.0679 - val_acc: 0.9257\n",
            "Epoch 31/100\n",
            "176/176 [==============================] - 0s 2ms/step - loss: 0.0719 - acc: 0.9215 - val_loss: 0.0678 - val_acc: 0.9250\n",
            "Epoch 32/100\n",
            "176/176 [==============================] - 0s 2ms/step - loss: 0.0717 - acc: 0.9216 - val_loss: 0.0679 - val_acc: 0.9258\n",
            "Epoch 33/100\n",
            "176/176 [==============================] - 0s 2ms/step - loss: 0.0716 - acc: 0.9215 - val_loss: 0.0676 - val_acc: 0.9258\n",
            "Epoch 34/100\n",
            "176/176 [==============================] - 0s 2ms/step - loss: 0.0715 - acc: 0.9214 - val_loss: 0.0676 - val_acc: 0.9245\n",
            "Epoch 35/100\n",
            "176/176 [==============================] - 0s 2ms/step - loss: 0.0714 - acc: 0.9216 - val_loss: 0.0680 - val_acc: 0.9260\n",
            "Epoch 36/100\n",
            "176/176 [==============================] - 0s 2ms/step - loss: 0.0714 - acc: 0.9214 - val_loss: 0.0673 - val_acc: 0.9256\n",
            "Epoch 37/100\n",
            "176/176 [==============================] - 0s 2ms/step - loss: 0.0713 - acc: 0.9215 - val_loss: 0.0673 - val_acc: 0.9255\n",
            "Epoch 38/100\n",
            "176/176 [==============================] - 0s 2ms/step - loss: 0.0712 - acc: 0.9214 - val_loss: 0.0672 - val_acc: 0.9252\n",
            "Epoch 39/100\n",
            "176/176 [==============================] - 0s 2ms/step - loss: 0.0711 - acc: 0.9211 - val_loss: 0.0673 - val_acc: 0.9255\n",
            "Epoch 40/100\n",
            "176/176 [==============================] - 0s 2ms/step - loss: 0.0710 - acc: 0.9211 - val_loss: 0.0672 - val_acc: 0.9247\n",
            "Epoch 41/100\n",
            "176/176 [==============================] - 0s 2ms/step - loss: 0.0710 - acc: 0.9215 - val_loss: 0.0674 - val_acc: 0.9264\n",
            "Epoch 42/100\n",
            "176/176 [==============================] - 0s 2ms/step - loss: 0.0709 - acc: 0.9214 - val_loss: 0.0670 - val_acc: 0.9255\n",
            "Epoch 43/100\n",
            "176/176 [==============================] - 0s 2ms/step - loss: 0.0708 - acc: 0.9210 - val_loss: 0.0670 - val_acc: 0.9259\n",
            "Epoch 44/100\n",
            "176/176 [==============================] - 0s 2ms/step - loss: 0.0708 - acc: 0.9214 - val_loss: 0.0671 - val_acc: 0.9258\n",
            "Epoch 45/100\n",
            "176/176 [==============================] - 0s 2ms/step - loss: 0.0707 - acc: 0.9213 - val_loss: 0.0668 - val_acc: 0.9256\n",
            "Epoch 46/100\n",
            "176/176 [==============================] - 0s 2ms/step - loss: 0.0707 - acc: 0.9213 - val_loss: 0.0668 - val_acc: 0.9258\n",
            "Epoch 47/100\n",
            "176/176 [==============================] - 0s 2ms/step - loss: 0.0706 - acc: 0.9214 - val_loss: 0.0667 - val_acc: 0.9257\n",
            "Epoch 48/100\n",
            "176/176 [==============================] - 0s 2ms/step - loss: 0.0705 - acc: 0.9213 - val_loss: 0.0672 - val_acc: 0.9253\n",
            "Epoch 49/100\n",
            "176/176 [==============================] - 0s 2ms/step - loss: 0.0705 - acc: 0.9214 - val_loss: 0.0667 - val_acc: 0.9253\n",
            "Epoch 50/100\n",
            "176/176 [==============================] - 0s 2ms/step - loss: 0.0705 - acc: 0.9214 - val_loss: 0.0668 - val_acc: 0.9259\n",
            "Epoch 51/100\n",
            "176/176 [==============================] - 0s 2ms/step - loss: 0.0704 - acc: 0.9212 - val_loss: 0.0665 - val_acc: 0.9254\n",
            "Epoch 52/100\n",
            "176/176 [==============================] - 0s 2ms/step - loss: 0.0704 - acc: 0.9215 - val_loss: 0.0665 - val_acc: 0.9252\n",
            "Epoch 53/100\n",
            "176/176 [==============================] - 0s 2ms/step - loss: 0.0703 - acc: 0.9212 - val_loss: 0.0665 - val_acc: 0.9253\n",
            "Epoch 54/100\n",
            "176/176 [==============================] - 0s 2ms/step - loss: 0.0703 - acc: 0.9212 - val_loss: 0.0664 - val_acc: 0.9255\n",
            "Epoch 55/100\n",
            "176/176 [==============================] - 0s 2ms/step - loss: 0.0703 - acc: 0.9215 - val_loss: 0.0664 - val_acc: 0.9255\n",
            "Epoch 56/100\n",
            "176/176 [==============================] - 0s 2ms/step - loss: 0.0702 - acc: 0.9210 - val_loss: 0.0665 - val_acc: 0.9251\n",
            "Epoch 57/100\n",
            "176/176 [==============================] - 0s 2ms/step - loss: 0.0702 - acc: 0.9215 - val_loss: 0.0664 - val_acc: 0.9254\n",
            "Epoch 58/100\n",
            "176/176 [==============================] - 0s 2ms/step - loss: 0.0702 - acc: 0.9212 - val_loss: 0.0662 - val_acc: 0.9255\n",
            "Epoch 59/100\n",
            "176/176 [==============================] - 0s 2ms/step - loss: 0.0701 - acc: 0.9213 - val_loss: 0.0663 - val_acc: 0.9257\n",
            "Epoch 60/100\n",
            "176/176 [==============================] - 0s 2ms/step - loss: 0.0701 - acc: 0.9210 - val_loss: 0.0662 - val_acc: 0.9255\n",
            "Epoch 61/100\n",
            "176/176 [==============================] - 0s 2ms/step - loss: 0.0700 - acc: 0.9216 - val_loss: 0.0663 - val_acc: 0.9257\n",
            "Epoch 62/100\n",
            "176/176 [==============================] - 0s 2ms/step - loss: 0.0700 - acc: 0.9212 - val_loss: 0.0664 - val_acc: 0.9256\n",
            "Epoch 63/100\n",
            "176/176 [==============================] - 0s 2ms/step - loss: 0.0700 - acc: 0.9214 - val_loss: 0.0662 - val_acc: 0.9251\n",
            "Epoch 64/100\n",
            "176/176 [==============================] - 0s 2ms/step - loss: 0.0699 - acc: 0.9214 - val_loss: 0.0661 - val_acc: 0.9258\n",
            "Epoch 65/100\n",
            "176/176 [==============================] - 0s 2ms/step - loss: 0.0699 - acc: 0.9214 - val_loss: 0.0661 - val_acc: 0.9260\n",
            "Epoch 66/100\n",
            "176/176 [==============================] - 0s 2ms/step - loss: 0.0699 - acc: 0.9214 - val_loss: 0.0661 - val_acc: 0.9257\n",
            "Epoch 67/100\n",
            "176/176 [==============================] - 0s 2ms/step - loss: 0.0699 - acc: 0.9212 - val_loss: 0.0661 - val_acc: 0.9249\n",
            "Epoch 68/100\n",
            "176/176 [==============================] - 0s 2ms/step - loss: 0.0698 - acc: 0.9214 - val_loss: 0.0660 - val_acc: 0.9257\n",
            "Epoch 69/100\n",
            "176/176 [==============================] - 0s 2ms/step - loss: 0.0698 - acc: 0.9216 - val_loss: 0.0661 - val_acc: 0.9253\n",
            "Epoch 70/100\n",
            "176/176 [==============================] - 0s 2ms/step - loss: 0.0698 - acc: 0.9216 - val_loss: 0.0663 - val_acc: 0.9259\n",
            "Epoch 71/100\n",
            "176/176 [==============================] - 0s 2ms/step - loss: 0.0698 - acc: 0.9215 - val_loss: 0.0660 - val_acc: 0.9254\n",
            "Epoch 72/100\n",
            "176/176 [==============================] - 0s 2ms/step - loss: 0.0697 - acc: 0.9213 - val_loss: 0.0661 - val_acc: 0.9255\n",
            "Epoch 73/100\n",
            "176/176 [==============================] - 0s 2ms/step - loss: 0.0697 - acc: 0.9214 - val_loss: 0.0660 - val_acc: 0.9253\n",
            "Epoch 74/100\n",
            "176/176 [==============================] - 0s 2ms/step - loss: 0.0697 - acc: 0.9212 - val_loss: 0.0661 - val_acc: 0.9259\n",
            "Epoch 75/100\n",
            "176/176 [==============================] - 0s 2ms/step - loss: 0.0697 - acc: 0.9217 - val_loss: 0.0659 - val_acc: 0.9257\n",
            "Epoch 76/100\n",
            "176/176 [==============================] - 0s 2ms/step - loss: 0.0696 - acc: 0.9212 - val_loss: 0.0659 - val_acc: 0.9259\n",
            "Epoch 77/100\n",
            "176/176 [==============================] - 0s 2ms/step - loss: 0.0696 - acc: 0.9213 - val_loss: 0.0659 - val_acc: 0.9254\n",
            "Epoch 78/100\n",
            "176/176 [==============================] - 1s 4ms/step - loss: 0.0696 - acc: 0.9213 - val_loss: 0.0659 - val_acc: 0.9257\n",
            "Epoch 79/100\n",
            "176/176 [==============================] - 1s 3ms/step - loss: 0.0696 - acc: 0.9214 - val_loss: 0.0660 - val_acc: 0.9259\n",
            "Epoch 80/100\n",
            "176/176 [==============================] - 1s 5ms/step - loss: 0.0695 - acc: 0.9216 - val_loss: 0.0658 - val_acc: 0.9257\n",
            "Epoch 81/100\n",
            "176/176 [==============================] - 0s 3ms/step - loss: 0.0695 - acc: 0.9215 - val_loss: 0.0658 - val_acc: 0.9259\n",
            "Epoch 82/100\n",
            "176/176 [==============================] - 1s 5ms/step - loss: 0.0695 - acc: 0.9214 - val_loss: 0.0659 - val_acc: 0.9252\n",
            "Epoch 83/100\n",
            "176/176 [==============================] - 0s 3ms/step - loss: 0.0695 - acc: 0.9216 - val_loss: 0.0659 - val_acc: 0.9249\n",
            "Epoch 84/100\n",
            "176/176 [==============================] - 0s 2ms/step - loss: 0.0695 - acc: 0.9216 - val_loss: 0.0658 - val_acc: 0.9248\n",
            "Epoch 85/100\n",
            "176/176 [==============================] - 0s 2ms/step - loss: 0.0694 - acc: 0.9215 - val_loss: 0.0657 - val_acc: 0.9257\n",
            "Epoch 86/100\n",
            "176/176 [==============================] - 0s 2ms/step - loss: 0.0694 - acc: 0.9214 - val_loss: 0.0657 - val_acc: 0.9260\n",
            "Epoch 87/100\n",
            "176/176 [==============================] - 0s 2ms/step - loss: 0.0694 - acc: 0.9213 - val_loss: 0.0657 - val_acc: 0.9257\n",
            "Epoch 88/100\n",
            "176/176 [==============================] - 0s 2ms/step - loss: 0.0694 - acc: 0.9219 - val_loss: 0.0658 - val_acc: 0.9241\n",
            "Epoch 89/100\n",
            "176/176 [==============================] - 0s 2ms/step - loss: 0.0693 - acc: 0.9216 - val_loss: 0.0658 - val_acc: 0.9260\n",
            "Epoch 90/100\n",
            "176/176 [==============================] - 0s 2ms/step - loss: 0.0693 - acc: 0.9215 - val_loss: 0.0657 - val_acc: 0.9249\n",
            "Epoch 91/100\n",
            "176/176 [==============================] - 0s 2ms/step - loss: 0.0693 - acc: 0.9213 - val_loss: 0.0656 - val_acc: 0.9259\n",
            "Epoch 92/100\n",
            "176/176 [==============================] - 0s 2ms/step - loss: 0.0693 - acc: 0.9216 - val_loss: 0.0655 - val_acc: 0.9259\n",
            "Epoch 93/100\n",
            "176/176 [==============================] - 0s 2ms/step - loss: 0.0692 - acc: 0.9217 - val_loss: 0.0657 - val_acc: 0.9260\n",
            "Epoch 94/100\n",
            "176/176 [==============================] - 0s 2ms/step - loss: 0.0692 - acc: 0.9219 - val_loss: 0.0662 - val_acc: 0.9262\n",
            "Epoch 95/100\n",
            "176/176 [==============================] - 0s 2ms/step - loss: 0.0692 - acc: 0.9215 - val_loss: 0.0655 - val_acc: 0.9255\n",
            "Epoch 96/100\n",
            "176/176 [==============================] - 0s 2ms/step - loss: 0.0692 - acc: 0.9219 - val_loss: 0.0655 - val_acc: 0.9256\n",
            "Epoch 97/100\n",
            "176/176 [==============================] - 0s 2ms/step - loss: 0.0692 - acc: 0.9215 - val_loss: 0.0655 - val_acc: 0.9259\n",
            "Epoch 98/100\n",
            "176/176 [==============================] - 0s 2ms/step - loss: 0.0692 - acc: 0.9217 - val_loss: 0.0655 - val_acc: 0.9263\n",
            "Epoch 99/100\n",
            "176/176 [==============================] - 0s 2ms/step - loss: 0.0692 - acc: 0.9217 - val_loss: 0.0656 - val_acc: 0.9260\n",
            "Epoch 100/100\n",
            "176/176 [==============================] - 0s 2ms/step - loss: 0.0691 - acc: 0.9218 - val_loss: 0.0656 - val_acc: 0.9262\n",
            "Test loss: 0.06877051293849945\n",
            "Test accuracy: 0.9227499961853027\n"
          ]
        }
      ]
    },
    {
      "cell_type": "markdown",
      "source": [
        "### **繪製訓練過程圖**"
      ],
      "metadata": {
        "id": "Ky8OhJU-rDCj"
      }
    },
    {
      "cell_type": "code",
      "source": [
        "import matplotlib.pyplot as plt\n",
        "def show_train_history(train_type,test_type):\n",
        "    plt.plot(train_history.history[train_type])\n",
        "    plt.plot(train_history.history[test_type])\n",
        "    plt.title('Train History')\n",
        "    if train_type == 'acc':\n",
        "        plt.ylabel('Accuracy')\n",
        "    else:\n",
        "        plt.ylabel('Loss')\n",
        "    plt.xlabel('Epoch')\n",
        "    plt.legend(['train', 'test'], loc='upper left')\n",
        "    plt.show()\n",
        "\n",
        "show_train_history('acc','val_acc')\n",
        "show_train_history('loss','val_loss')"
      ],
      "metadata": {
        "colab": {
          "base_uri": "https://localhost:8080/",
          "height": 573
        },
        "id": "xtDT4a7Lp-cn",
        "outputId": "8d3038f8-3e53-43e3-9331-8ce868f45f08"
      },
      "execution_count": null,
      "outputs": [
        {
          "output_type": "display_data",
          "data": {
            "image/png": "[encoded data removed]",
            "text/plain": [
              "<Figure size 432x288 with 1 Axes>"
            ]
          },
          "metadata": {
            "needs_background": "light"
          }
        },
        {
          "output_type": "display_data",
          "data": {
            "image/png": "[encoded data removed]",
            "text/plain": [
              "<Figure size 432x288 with 1 Axes>"
            ]
          },
          "metadata": {
            "needs_background": "light"
          }
        }
      ]
    }
  ]
}
